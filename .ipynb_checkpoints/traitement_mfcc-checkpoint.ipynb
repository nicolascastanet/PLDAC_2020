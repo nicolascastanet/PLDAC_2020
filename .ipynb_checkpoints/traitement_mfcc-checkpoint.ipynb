{
 "cells": [
  {
   "cell_type": "code",
   "execution_count": 1,
   "metadata": {},
   "outputs": [],
   "source": [
    "DATA_PATH = \"database/ff1010bird_metadata_2018.csv\""
   ]
  },
  {
   "cell_type": "code",
   "execution_count": 5,
   "metadata": {},
   "outputs": [
    {
     "name": "stdout",
     "output_type": "stream",
     "text": [
      "(7690, 3)\n",
      "500 fichiers traités sur 7690\n",
      "\n",
      "1000 fichiers traités sur 7690\n",
      "\n",
      "1500 fichiers traités sur 7690\n",
      "\n",
      "2000 fichiers traités sur 7690\n",
      "\n",
      "2500 fichiers traités sur 7690\n",
      "\n",
      "3000 fichiers traités sur 7690\n",
      "\n",
      "3500 fichiers traités sur 7690\n",
      "\n",
      "4000 fichiers traités sur 7690\n",
      "\n",
      "4500 fichiers traités sur 7690\n",
      "\n",
      "5000 fichiers traités sur 7690\n",
      "\n",
      "5500 fichiers traités sur 7690\n",
      "\n",
      "6000 fichiers traités sur 7690\n",
      "\n",
      "6500 fichiers traités sur 7690\n",
      "\n",
      "7000 fichiers traités sur 7690\n",
      "\n",
      "7500 fichiers traités sur 7690\n",
      "\n"
     ]
    }
   ],
   "source": [
    "import pandas as pd\n",
    "from PIL import Image\n",
    "import librosa\n",
    "import numpy as np\n",
    "\n",
    "#TAUX_MFCC = 177\n",
    "\n",
    "df = pd.read_csv(DATA_PATH)\n",
    "\n",
    "print(df.shape)\n",
    "\n",
    "taille = df.shape[0]\n",
    "\n",
    "features_MFCC = []\n",
    "targets_MFCC = []\n",
    "i = 0\n",
    "ligne = 0\n",
    "\n",
    "for row in df.iterrows():\n",
    "\n",
    "    file = \"database/wav/\"+str(row[1][0])+\".wav\"\n",
    "    targ = row[1][2] # target hasbird\n",
    "    i += 1\n",
    "    if i%500 == 0 : \n",
    "        print(str(i)+\" fichiers traités sur \"+str(taille)+'\\n')\n",
    "\n",
    "    try : \n",
    "        X, sample_rate = librosa.load(file, res_type='kaiser_fast',duration=2.5,sr=22050*2,offset=0.5)\n",
    "        sample_rate = np.array(sample_rate)\n",
    "        mfccs = np.mean(librosa.feature.mfcc(y=X, sr=sample_rate, n_mfcc=13),axis=0)\n",
    "        feature = mfccs\n",
    "        #if len(feature) >= TAUX_MFCC :   \n",
    "        #features_MFCC.append(feature[:TAUX_MFCC])\n",
    "        features_MFCC.append(feature)\n",
    "        targets_MFCC.append(targ)\n",
    "    except ValueError as e :\n",
    "        pass\n",
    "    \n",
    "features_MFCC = np.array(features_MFCC)\n",
    "targets_MFCC = np.array(targets_MFCC)\n"
   ]
  },
  {
   "cell_type": "code",
   "execution_count": 6,
   "metadata": {},
   "outputs": [
    {
     "data": {
      "text/plain": [
       "\"\\nwith open('MFCC_arousal.pkl', 'rb') as f:\\n    features_MFCC, targets_MFCC = pickle.load(f)\\n\""
      ]
     },
     "execution_count": 6,
     "metadata": {},
     "output_type": "execute_result"
    }
   ],
   "source": [
    "# sauvegarde .pkl\n",
    "import pickle\n",
    "\n",
    "\"\"\"\n",
    "\n",
    "with open('database/MFCC_bird.pkl', 'wb') as f:  # Python 3: open(..., 'wb')\n",
    "    pickle.dump([features_MFCC, targets_MFCC], f)\n",
    "    \n",
    "    \n",
    "\"\"\"\n",
    "with open('MFCC_arousal.pkl', 'rb') as f:\n",
    "    features_MFCC, targets_MFCC = pickle.load(f)\n",
    "\"\"\""
   ]
  },
  {
   "cell_type": "code",
   "execution_count": 14,
   "metadata": {},
   "outputs": [
    {
     "name": "stdout",
     "output_type": "stream",
     "text": [
      "7690\n"
     ]
    }
   ],
   "source": [
    "with open('database/MFCC_bird.pkl', 'rb')as f:\n",
    "    feat, targ = pickle.load(f)\n",
    "    \n"
   ]
  }
 ],
 "metadata": {
  "kernelspec": {
   "display_name": "Python 3",
   "language": "python",
   "name": "python3"
  },
  "language_info": {
   "codemirror_mode": {
    "name": "ipython",
    "version": 3
   },
   "file_extension": ".py",
   "mimetype": "text/x-python",
   "name": "python",
   "nbconvert_exporter": "python",
   "pygments_lexer": "ipython3",
   "version": "3.7.3"
  }
 },
 "nbformat": 4,
 "nbformat_minor": 2
}
